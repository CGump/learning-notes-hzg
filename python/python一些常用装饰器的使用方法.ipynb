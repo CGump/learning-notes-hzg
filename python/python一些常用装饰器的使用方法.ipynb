{
 "cells": [
  {
   "cell_type": "markdown",
   "metadata": {},
   "source": [
    "# 一些常用装饰器的使用方法\n",
    "## 1.  类方法装饰器`@property`\n",
    "`@property`装饰器可以让类中的方法以属性的方式进行调用,例如:\n",
    "我们新建一个`Student()`类,并创建实例属性`_score`:"
   ]
  },
  {
   "cell_type": "code",
   "execution_count": 32,
   "metadata": {},
   "outputs": [],
   "source": [
    "class Student(object):\n",
    "    def __init__(self):\n",
    "        self._score = 70\n",
    "    \n",
    "    def get_score(self):\n",
    "        return self._score\n",
    "    \n",
    "    def set_score(self, value):\n",
    "        if not isinstance(value, int):\n",
    "            raise ValueError(\"score must be an integer!\")\n",
    "        if value<0 or value>100:\n",
    "            raise ValuError(\"score must between 0~100!\")\n",
    "        self._score = value\n",
    "\n",
    "s = Student()"
   ]
  },
  {
   "cell_type": "code",
   "execution_count": 33,
   "metadata": {},
   "outputs": [
    {
     "data": {
      "text/plain": [
       "70"
      ]
     },
     "execution_count": 33,
     "metadata": {},
     "output_type": "execute_result"
    }
   ],
   "source": [
    "s._score"
   ]
  },
  {
   "cell_type": "markdown",
   "metadata": {},
   "source": [
    "此时,如果我们需要拿到或更改类中的示例属性`self._name`,则必须通过严格的调用类中`get_score`和`set_score`的方法:"
   ]
  },
  {
   "cell_type": "code",
   "execution_count": 34,
   "metadata": {},
   "outputs": [
    {
     "name": "stdout",
     "output_type": "stream",
     "text": [
      "70\n",
      "80\n"
     ]
    }
   ],
   "source": [
    "print(s.get_score())\n",
    "s.set_score(80)\n",
    "print(s.get_score())"
   ]
  },
  {
   "cell_type": "markdown",
   "metadata": {},
   "source": [
    "上面的方法略显复杂,如果需要更改`_score`属性的话需要先执行`set_score`更改,没有直接用属性那么方便.但是,如果直接用属性进行设置,由无法检查参数.\n",
    "\n",
    "所以,此时我们可以通过使用`@property`装饰器,对`get_score`和`set_score`进行改装,使类中的这两种方法变成类的属性,使得调用的时候可以以属性的方法进行."
   ]
  },
  {
   "cell_type": "code",
   "execution_count": 35,
   "metadata": {},
   "outputs": [],
   "source": [
    "class Student(object):\n",
    "    def __init__(self):\n",
    "        self._score = 70\n",
    "    \n",
    "    @property\n",
    "    def score(self):\n",
    "        return self._score\n",
    "    \n",
    "    @score.setter\n",
    "    def score(self, value):\n",
    "        if not isinstance(value, int):\n",
    "            raise ValueError(\"score must be an integer!\")\n",
    "        if value<0 or value>100:\n",
    "            raise ValuError(\"score must between 0~100!\")\n",
    "        self._score = value\n",
    "\n",
    "s = Student()"
   ]
  },
  {
   "cell_type": "markdown",
   "metadata": {},
   "source": [
    "值得一提的是,`@property`装饰器自带`getter`和`setter`方法,分别用于将一个getter方法和一个setter方法变为属性,直接以`@property`装饰时默认为`getter`."
   ]
  },
  {
   "cell_type": "code",
   "execution_count": 36,
   "metadata": {},
   "outputs": [
    {
     "name": "stdout",
     "output_type": "stream",
     "text": [
      "70\n",
      "80\n"
     ]
    }
   ],
   "source": [
    "print(s.score)\n",
    "s.score = 80\n",
    "print(s.score)"
   ]
  },
  {
   "cell_type": "markdown",
   "metadata": {},
   "source": [
    "这样我们就发现,通过属性的方式调用,代码更加简洁易懂,同时又免去了方法调用的().\n",
    "\n",
    "更重要的是,直接调用`score`即可，而不用知道属性名`_score`，因此用户无法更改属性，从而保护了类的属性。"
   ]
  },
  {
   "cell_type": "markdown",
   "metadata": {},
   "source": [
    "## 2、装饰器与闭包函数\n",
    "装饰器、语法糖时用到了闭包\n",
    "不影响原有函数的功能，还能添加新的功能"
   ]
  },
  {
   "cell_type": "code",
   "execution_count": 1,
   "metadata": {},
   "outputs": [
    {
     "name": "stdout",
     "output_type": "stream",
     "text": [
      "func: [1, 2, 3, 4, 5]\n",
      "func1: [2, 2, 3, 4, 5]\n",
      "func1: [3, 2, 3, 4, 5]\n",
      "func1: [4, 2, 3, 4, 5]\n"
     ]
    }
   ],
   "source": [
    "mylist = [1, 2, 3, 4, 5]\n",
    "\n",
    "def func(obj):\n",
    "    print('func:', obj)\n",
    "    def func1():\n",
    "        obj[0] += 1\n",
    "        print('func1:', obj)\n",
    "    return func1\n",
    "\n",
    "var = func(mylist)\n",
    "\n",
    "var()\n",
    "var()\n",
    "var()"
   ]
  },
  {
   "cell_type": "markdown",
   "metadata": {},
   "source": [
    "装饰器"
   ]
  },
  {
   "cell_type": "code",
   "execution_count": 4,
   "metadata": {},
   "outputs": [
    {
     "name": "stdout",
     "output_type": "stream",
     "text": [
      "aaabbb\n",
      "你好，我是print\n"
     ]
    }
   ],
   "source": [
    "def func1(func):# 外部闭包函数的参数是被装饰的函数对象\n",
    "    \n",
    "    def func2():\n",
    "        print('aaabbb')\n",
    "        return func() # 返回了外部函数接收的被装饰函数的调用\n",
    "    return func2\n",
    "# return func # 返回了函数对象\n",
    "# return func() # 返回的是一个函数的调用\n",
    "# 1:func1(myprint()) -> func2 # 接收被装饰的函数作为参数，而且还要继续调用一次\n",
    "# 2:func2() -> print('aaabbb') -> print('你好，我是print')\n",
    "@func1\n",
    "def myprint():\n",
    "    print('你好，我是print')\n",
    "\n",
    "myprint()"
   ]
  },
  {
   "cell_type": "markdown",
   "metadata": {},
   "source": [
    "直接调用myprint()其实是执行了 func1 + myprint\n",
    "先执行装饰函数func1(myprint),将myprint函数以参数的形式输入进func1，\n",
    "func1返回了内部函数func2的定义但不执行，\n",
    "然后由于()表示执行预构建的函数func2，此时按顺序先执行print('aaabbb')，再执行myprint()"
   ]
  },
  {
   "cell_type": "code",
   "execution_count": 19,
   "metadata": {},
   "outputs": [
    {
     "name": "stdout",
     "output_type": "stream",
     "text": [
      "1 2\n",
      "13\n"
     ]
    }
   ],
   "source": [
    "def func1(func):\n",
    "    def func2(x,y):\n",
    "        print(x,y)\n",
    "        x += 5\n",
    "        y += 5\n",
    "        return func(x,y)\n",
    "    return func2\n",
    "\n",
    "@func1\n",
    "def mysum(a,b):\n",
    "    print(a+b)\n",
    "\n",
    "mysum(1,2)"
   ]
  },
  {
   "cell_type": "code",
   "execution_count": null,
   "metadata": {},
   "outputs": [],
   "source": []
  }
 ],
 "metadata": {
  "kernelspec": {
   "display_name": "Python 3",
   "language": "python",
   "name": "python3"
  },
  "language_info": {
   "codemirror_mode": {
    "name": "ipython",
    "version": 3
   },
   "file_extension": ".py",
   "mimetype": "text/x-python",
   "name": "python",
   "nbconvert_exporter": "python",
   "pygments_lexer": "ipython3",
   "version": "3.6.5"
  }
 },
 "nbformat": 4,
 "nbformat_minor": 2
}
