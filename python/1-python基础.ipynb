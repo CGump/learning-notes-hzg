{
 "cells": [
  {
   "cell_type": "markdown",
   "metadata": {},
   "source": [
    "## 1、数据基本类型与print函数\n",
    "基本数据类型：\n",
    "\n",
    "integer 整型（整数类型） 1 5 100\n",
    "\n",
    "float 浮点型（小数） 0.1 3.1415 189.153\n",
    "\n",
    "string 字符串型 \"This is a string\" \"123\" '123'"
   ]
  },
  {
   "cell_type": "code",
   "execution_count": 2,
   "metadata": {},
   "outputs": [
    {
     "name": "stdout",
     "output_type": "stream",
     "text": [
      "1 2 3\n",
      "1.25 6.7845\n",
      "string 1 4.7842\n"
     ]
    }
   ],
   "source": [
    "print(1, 2, 3)\n",
    "print(1.25, 6.7845)\n",
    "print('string', 1, 4.7842)"
   ]
  },
  {
   "cell_type": "markdown",
   "metadata": {},
   "source": [
    "## 2、运算符与变量\n",
    "'''\n",
    "运算  \n",
    "\\+   加  \n",
    "\\-   减  \n",
    "\\*   乘  \n",
    "\\*\\* 幂  \n",
    "/   除  \n",
    "%  取余  \n",
    "//  取整\n",
    "'''"
   ]
  },
  {
   "cell_type": "code",
   "execution_count": 3,
   "metadata": {},
   "outputs": [
    {
     "data": {
      "text/plain": [
       "13"
      ]
     },
     "execution_count": 3,
     "metadata": {},
     "output_type": "execute_result"
    }
   ],
   "source": [
    "1+2-3*2+4**2"
   ]
  },
  {
   "cell_type": "code",
   "execution_count": 4,
   "metadata": {},
   "outputs": [
    {
     "data": {
      "text/plain": [
       "3.4"
      ]
     },
     "execution_count": 4,
     "metadata": {},
     "output_type": "execute_result"
    }
   ],
   "source": [
    "(8+9)/5"
   ]
  },
  {
   "cell_type": "code",
   "execution_count": 5,
   "metadata": {},
   "outputs": [
    {
     "data": {
      "text/plain": [
       "2"
      ]
     },
     "execution_count": 5,
     "metadata": {},
     "output_type": "execute_result"
    }
   ],
   "source": [
    "(8+9)%5 #余数计算：除数乘以小数位"
   ]
  },
  {
   "cell_type": "code",
   "execution_count": 6,
   "metadata": {},
   "outputs": [
    {
     "data": {
      "text/plain": [
       "3"
      ]
     },
     "execution_count": 6,
     "metadata": {},
     "output_type": "execute_result"
    }
   ],
   "source": [
    "(8+9)//5"
   ]
  },
  {
   "cell_type": "markdown",
   "metadata": {},
   "source": [
    "变量的赋值："
   ]
  },
  {
   "cell_type": "code",
   "execution_count": 9,
   "metadata": {},
   "outputs": [
    {
     "name": "stdout",
     "output_type": "stream",
     "text": [
      "1 3.48 string\n"
     ]
    }
   ],
   "source": [
    "a = 1\n",
    "b = 3.48\n",
    "c = 'string'\n",
    "print(a, b, c)"
   ]
  },
  {
   "cell_type": "markdown",
   "metadata": {},
   "source": [
    "## 3、for循环和while循环\n",
    "Python for循环可以遍历任何序列的项目，如一个列表或者一个字符串。for循环的语法格式如下：\n",
    ">for iterating_var in sequence:   \n",
    ">    statements(s)"
   ]
  },
  {
   "cell_type": "code",
   "execution_count": 11,
   "metadata": {},
   "outputs": [
    {
     "name": "stdout",
     "output_type": "stream",
     "text": [
      "当前字母 : P\n",
      "当前字母 : y\n",
      "当前字母 : t\n",
      "当前字母 : h\n",
      "当前字母 : o\n",
      "当前字母 : n\n",
      "当前水果 : banana\n",
      "当前水果 : apple\n",
      "当前水果 : mango\n",
      "Good bye!\n"
     ]
    }
   ],
   "source": [
    "#!/usr/bin/python\n",
    "# -*- coding: UTF-8 -*-\n",
    " \n",
    "for letter in 'Python':     # 第一个实例\n",
    "   print('当前字母 :', letter)\n",
    " \n",
    "fruits = ['banana', 'apple',  'mango']\n",
    "for fruit in fruits:        # 第二个实例\n",
    "   print('当前水果 :', fruit)\n",
    " \n",
    "print(\"Good bye!\")"
   ]
  },
  {
   "cell_type": "markdown",
   "metadata": {},
   "source": [
    "`while`语句用于循环执行程序，即在某条件下，循环执行某段程序，以处理需要重复处理的相同任务。执行语句可以是单个语句或语句块。判断条件可以是任何表达式，任何非零、或非空（null）的值均为true。当判断条件假false时，循环结束。\n",
    ">while 判断条件：   \n",
    ">    执行语句……\n",
    "\n",
    "执行流程如下：\n",
    "![while-loop.gif](img/while-loop.gif)\n",
    "\n",
    "复杂一点：\n",
    "![while-loop-normal.gif](img/while-loop-normal.gif)"
   ]
  },
  {
   "cell_type": "markdown",
   "metadata": {},
   "source": [
    "## 4、列表\n",
    "通过`[]`建立一个列表，可以对其进行索引、修改、排序、增减等基础操作"
   ]
  },
  {
   "cell_type": "code",
   "execution_count": 16,
   "metadata": {},
   "outputs": [
    {
     "name": "stdout",
     "output_type": "stream",
     "text": [
      "a_list： [1, 2, 30, 30, 30, 4, 2]\n",
      "打印第5个元素： 4\n",
      "打印倒数第二个元素： 4\n",
      "打印第1至第4个元素： [2, 30, 30]\n",
      "列表排序： [1, 2, 2, 4, 30, 30, 30]\n",
      "列表倒序： [30, 30, 30, 4, 2, 2, 1]\n",
      "修改后第0个元素： [100, 2, 2, 4, 30, 30, 30]\n",
      "在列表末尾添加一个元素: [100, 2, 2, 4, 30, 30, 30, 200]\n",
      "删除列表第2个元素: [100, 2, 4, 30, 30, 30, 200]\n",
      "元素:4的索引: 2\n",
      "多维列表： [[1, 2, 3], [5, 7, 9]]\n"
     ]
    }
   ],
   "source": [
    "a_list = [1,2,30,30,30,4,2]#列表\n",
    "print('a_list：', a_list)\n",
    "print('打印第5个元素：', a_list[5])  #打印列表中第5个元素\n",
    "print('打印倒数第二个元素：', a_list[-2]) #打印列表中倒数第2个元素\n",
    "print('打印第1至第4个元素：', a_list[1:4]) #打印列表中第1到第4个元素,不包括4\n",
    "a_list.sort()\n",
    "print('列表排序：', a_list) #对列表进行排序\n",
    "print('列表倒序：', a_list[::-1]) #倒序\n",
    "a_list[0] = 100 #修改列表中第0个元素\n",
    "print('修改后第0个元素：', a_list)\n",
    "a_list.append(200) #在列表末尾添加一个元素\n",
    "print('在列表末尾添加一个元素:', a_list)\n",
    "del a_list[2] #删除列表第2个元素\n",
    "print('删除列表第2个元素:', a_list)\n",
    "print('元素:4的索引:', a_list.index(4))\n",
    "b_list = [[1,2,3],[5,7,9]]\n",
    "print('多维列表：', b_list)"
   ]
  },
  {
   "cell_type": "markdown",
   "metadata": {},
   "source": [
    "## 5、元组\n",
    "通过`()`建立一个元组，可以对其进行索引操作，不能修改、排序、增减。以逗号分隔符`,`为标志。"
   ]
  },
  {
   "cell_type": "code",
   "execution_count": 17,
   "metadata": {},
   "outputs": [
    {
     "name": "stdout",
     "output_type": "stream",
     "text": [
      "(1, 2, 30, 30, 4, 5)\n",
      "(1, 2, 30, 30, 4, 5)\n"
     ]
    }
   ],
   "source": [
    "a_tuple = (1,2,30,30,4,5) #标准格式\n",
    "b_tuple = 1,2,30,30,4,5 #基础格式\n",
    "print(a_tuple)\n",
    "print(b_tuple)"
   ]
  },
  {
   "cell_type": "code",
   "execution_count": 18,
   "metadata": {},
   "outputs": [
    {
     "ename": "AttributeError",
     "evalue": "'tuple' object has no attribute 'sort'",
     "output_type": "error",
     "traceback": [
      "\u001b[1;31m---------------------------------------------------------------------------\u001b[0m",
      "\u001b[1;31mAttributeError\u001b[0m                            Traceback (most recent call last)",
      "\u001b[1;32m<ipython-input-18-9bcd8bcef751>\u001b[0m in \u001b[0;36m<module>\u001b[1;34m()\u001b[0m\n\u001b[1;32m----> 1\u001b[1;33m \u001b[0ma_tuple\u001b[0m\u001b[1;33m.\u001b[0m\u001b[0msort\u001b[0m\u001b[1;33m(\u001b[0m\u001b[1;33m)\u001b[0m\u001b[1;33m\u001b[0m\u001b[0m\n\u001b[0m",
      "\u001b[1;31mAttributeError\u001b[0m: 'tuple' object has no attribute 'sort'"
     ]
    }
   ],
   "source": [
    "a_tuple.sort()"
   ]
  },
  {
   "cell_type": "code",
   "execution_count": 19,
   "metadata": {},
   "outputs": [
    {
     "ename": "AttributeError",
     "evalue": "'tuple' object has no attribute 'append'",
     "output_type": "error",
     "traceback": [
      "\u001b[1;31m---------------------------------------------------------------------------\u001b[0m",
      "\u001b[1;31mAttributeError\u001b[0m                            Traceback (most recent call last)",
      "\u001b[1;32m<ipython-input-19-97a21e72c251>\u001b[0m in \u001b[0;36m<module>\u001b[1;34m()\u001b[0m\n\u001b[1;32m----> 1\u001b[1;33m \u001b[0ma_tuple\u001b[0m\u001b[1;33m.\u001b[0m\u001b[0mappend\u001b[0m\u001b[1;33m(\u001b[0m\u001b[1;36m200\u001b[0m\u001b[1;33m)\u001b[0m\u001b[1;33m\u001b[0m\u001b[0m\n\u001b[0m",
      "\u001b[1;31mAttributeError\u001b[0m: 'tuple' object has no attribute 'append'"
     ]
    }
   ],
   "source": [
    "a_tuple.append(200)"
   ]
  },
  {
   "cell_type": "markdown",
   "metadata": {},
   "source": [
    "## 6、if条件\n",
    "Python条件语句是通过一条或多条语句的执行结果（True或者False）来决定执行的代码块。\n",
    "\n",
    "Python程序语言指定任何非0和非空（null）值为true，0 或者 null为false。\n",
    "\n",
    "Python 编程中 if 语句用于控制程序的执行，基本形式为：\n",
    ">if 判断条件：  \n",
    ">    执行语句……  \n",
    ">else：  \n",
    ">    执行语句……\n",
    "\n",
    "执行效果演示：\n",
    "![if.gif](img/if.gif)"
   ]
  },
  {
   "cell_type": "markdown",
   "metadata": {},
   "source": [
    "## 7、字典\n",
    "字典是另一种可变容器模型，且可存储任意类型对象。\n",
    "\n",
    "字典的每个键值`key=>value`对用冒号 : 分割，每个键值对之间用逗号`,`分割，整个字典包括在花括号`{}`中 ,格式如下所示： \n",
    "\n",
    ">d = {key1 : value1, key2 : value2 }\n",
    "\n",
    "字典值可以没有限制地取任何python对象，既可以是标准的对象，也可以是用户定义的，但键不行。\n",
    "\n",
    "两个重要的点需要记住：\n",
    "\n",
    "1）不允许同一个键出现两次。创建时如果同一个键被赋值两次，后一个值会被记住；  \n",
    "2）键必须不可变，所以可以用数字，字符串或元组充当，所以用列表就不行。"
   ]
  },
  {
   "cell_type": "code",
   "execution_count": 28,
   "metadata": {},
   "outputs": [
    {
     "name": "stdout",
     "output_type": "stream",
     "text": [
      "{'name': 'Alice', 'age': 14, 70: 5, (1, 'bat', 4): 1}\n",
      "Alice\n"
     ]
    }
   ],
   "source": [
    "a_dict = {'name':'Alice', 'age':14, 70:5, (1,'bat',4):1}\n",
    "print(a_dict)\n",
    "print(a_dict['name']) #按键值索引"
   ]
  },
  {
   "cell_type": "markdown",
   "metadata": {},
   "source": [
    "## 8、模块\n",
    "Python 模块(Module)，是一个 Python 文件，以 .py 结尾，包含了 Python 对象定义和Python语句。\n",
    "\n",
    "模块让你能够有逻辑地组织你的 Python 代码段。把相关的代码分配到一个模块里能让你的代码更好用，更易懂。\n",
    "\n",
    "模块能定义函数，类和变量，模块里也能包含可执行的代码。\n",
    "\n",
    "模块定义好后，我们可以使用 import 语句来引入模块，语法如下："
   ]
  },
  {
   "cell_type": "code",
   "execution_count": 29,
   "metadata": {},
   "outputs": [
    {
     "name": "stdout",
     "output_type": "stream",
     "text": [
      "34\n"
     ]
    }
   ],
   "source": [
    "import max #导入了max模块\n",
    "a = max.func_max(10,34)\n",
    "print(a)"
   ]
  },
  {
   "cell_type": "markdown",
   "metadata": {},
   "source": [
    "## 9、函数\n",
    "你可以定义一个由自己想要功能的函数，以下是简单的规则：\n",
    "* 函数代码块以`def`关键词开头，后接函数标识符名称和圆括号`()`。\n",
    "* 任何传入参数和自变量必须放在圆括号中间。圆括号之间可以用于定义参数。\n",
    "* 函数的第一行语句可以选择性地使用文档字符串—用于存放函数说明。\n",
    "* 函数内容以冒号起始，并且缩进。\n",
    "* `return [表达式]` 结束函数，选择性地返回一个值给调用方。不带表达式的`return`相当于返回`None`。"
   ]
  },
  {
   "cell_type": "code",
   "execution_count": 89,
   "metadata": {},
   "outputs": [
    {
     "name": "stdout",
     "output_type": "stream",
     "text": [
      "a= 5\n",
      "b= 6\n",
      "c= 11\n",
      "a+b= 11\n",
      "ans: 11\n"
     ]
    }
   ],
   "source": [
    "def function(a, b): #定义一个函数\n",
    "    c = a + b\n",
    "    print('a=',a)\n",
    "    print('b=',b)\n",
    "    print('c=',c)\n",
    "    print('a+b=',c)\n",
    "    return c\n",
    "\n",
    "ans = function(5, 6)\n",
    "print('ans:', ans)"
   ]
  },
  {
   "cell_type": "markdown",
   "metadata": {},
   "source": [
    "## 10、类、类的继承"
   ]
  },
  {
   "cell_type": "code",
   "execution_count": 55,
   "metadata": {},
   "outputs": [],
   "source": [
    "class human:  #类\n",
    "    def __init__(self,name='someone',age=10):#类的初始化，创建对象时会执行\n",
    "        self.name = name\n",
    "        self.age = age\n",
    "        print('父类human初始化')\n",
    "    \n",
    "    job = 'student' # 第二种初始化方式\n",
    "    interest = 'game'\n",
    "    \n",
    "    #self代表类的实例，不是 python 关键字，我们可以把他换成任意的名字\n",
    "    #类的方法\n",
    "    def my_name(self):\n",
    "        print('my name is',self.name)\n",
    "    def my_age(self):\n",
    "        print('my age is',self.age)\n",
    "    def eat(self):\n",
    "        print('eat')\n",
    "    def think(self,a,b):\n",
    "        print(a+b)"
   ]
  },
  {
   "cell_type": "code",
   "execution_count": 56,
   "metadata": {},
   "outputs": [
    {
     "name": "stdout",
     "output_type": "stream",
     "text": [
      "父类human初始化\n",
      "someone\n",
      "student\n"
     ]
    }
   ],
   "source": [
    "person1 = human() #创建一个person1对象\n",
    "print(person1.name)\n",
    "print(person1.job)"
   ]
  },
  {
   "cell_type": "code",
   "execution_count": 57,
   "metadata": {},
   "outputs": [
    {
     "name": "stdout",
     "output_type": "stream",
     "text": [
      "my name is someone\n"
     ]
    }
   ],
   "source": [
    "person1.my_name()"
   ]
  },
  {
   "cell_type": "code",
   "execution_count": 74,
   "metadata": {},
   "outputs": [
    {
     "name": "stdout",
     "output_type": "stream",
     "text": [
      "父类human初始化\n",
      "my name is xiaohong\n",
      "11\n"
     ]
    }
   ],
   "source": [
    "person2 = human(name='xiaohong',age=20)\n",
    "person2.my_name()\n",
    "person2.think(5,6)"
   ]
  },
  {
   "cell_type": "code",
   "execution_count": 63,
   "metadata": {},
   "outputs": [
    {
     "name": "stdout",
     "output_type": "stream",
     "text": [
      "父类human初始化\n",
      "my age is 10\n"
     ]
    }
   ],
   "source": [
    "class student(human):#子类继承父类\n",
    "    pass\n",
    "stu1 = student()\n",
    "stu1.my_age()"
   ]
  },
  {
   "cell_type": "code",
   "execution_count": 84,
   "metadata": {},
   "outputs": [],
   "source": [
    "class student(human):#子类继承父类\n",
    "    def __init__(self,grade=2,school='Gree'):\n",
    "        human.__init__(self, name='小明', age=8) #子类对父类的初始化\n",
    "        self.grade = grade\n",
    "        self.school = school\n",
    "        self.scroe = 100\n",
    "        print('student init')\n",
    "        \n",
    "    #添加子类自己的方法\n",
    "    def learn(self):\n",
    "        print('learning')\n",
    "    def my_school(self):\n",
    "        print('my school is',self.school)\n",
    "    #子类可以重写父类的方法\n",
    "    def think(self,a,b):\n",
    "        print(a*b)"
   ]
  },
  {
   "cell_type": "code",
   "execution_count": 85,
   "metadata": {},
   "outputs": [
    {
     "name": "stdout",
     "output_type": "stream",
     "text": [
      "父类human初始化\n",
      "student init\n"
     ]
    }
   ],
   "source": [
    "stu2 = student()"
   ]
  },
  {
   "cell_type": "code",
   "execution_count": 86,
   "metadata": {},
   "outputs": [
    {
     "name": "stdout",
     "output_type": "stream",
     "text": [
      "name: 小明 |age: 8 |grade: 2 |school: Gree\n",
      "my name is 小明\n",
      "my school is Gree\n"
     ]
    }
   ],
   "source": [
    "print('name:',stu2.name, '|age:',stu2.age, '|grade:',stu2.grade, '|school:',stu2.school)\n",
    "stu2.my_name()\n",
    "stu2.my_school()"
   ]
  },
  {
   "cell_type": "code",
   "execution_count": 87,
   "metadata": {},
   "outputs": [
    {
     "name": "stdout",
     "output_type": "stream",
     "text": [
      "30\n"
     ]
    }
   ],
   "source": [
    "stu2.think(5,6)"
   ]
  },
  {
   "cell_type": "code",
   "execution_count": null,
   "metadata": {},
   "outputs": [],
   "source": []
  }
 ],
 "metadata": {
  "kernelspec": {
   "display_name": "Python 3",
   "language": "python",
   "name": "python3"
  },
  "language_info": {
   "codemirror_mode": {
    "name": "ipython",
    "version": 3
   },
   "file_extension": ".py",
   "mimetype": "text/x-python",
   "name": "python",
   "nbconvert_exporter": "python",
   "pygments_lexer": "ipython3",
   "version": "3.6.5"
  }
 },
 "nbformat": 4,
 "nbformat_minor": 2
}
