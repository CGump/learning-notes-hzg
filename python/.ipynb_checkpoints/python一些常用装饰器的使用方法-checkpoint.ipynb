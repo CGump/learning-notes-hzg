{
 "cells": [
  {
   "cell_type": "markdown",
   "metadata": {},
   "source": [
    "# 一些常用装饰器的使用方法\n",
    "## 1.  类方法装饰器`@property`\n",
    "`@property`装饰器可以让类中的方法以属性的方式进行调用,例如:\n",
    "我们新建一个`Student()`类,并创建实例属性`_score`:"
   ]
  },
  {
   "cell_type": "code",
   "execution_count": 32,
   "metadata": {},
   "outputs": [],
   "source": [
    "class Student(object):\n",
    "    def __init__(self):\n",
    "        self._score = 70\n",
    "    \n",
    "    def get_score(self):\n",
    "        return self._score\n",
    "    \n",
    "    def set_score(self, value):\n",
    "        if not isinstance(value, int):\n",
    "            raise ValueError(\"score must be an integer!\")\n",
    "        if value<0 or value>100:\n",
    "            raise ValuError(\"score must between 0~100!\")\n",
    "        self._score = value\n",
    "\n",
    "s = Student()"
   ]
  },
  {
   "cell_type": "code",
   "execution_count": 33,
   "metadata": {},
   "outputs": [
    {
     "data": {
      "text/plain": [
       "70"
      ]
     },
     "execution_count": 33,
     "metadata": {},
     "output_type": "execute_result"
    }
   ],
   "source": [
    "s._score"
   ]
  },
  {
   "cell_type": "markdown",
   "metadata": {},
   "source": [
    "此时,如果我们需要拿到或更改类中的示例属性`self._name`,则必须通过严格的调用类中`get_score`和`set_score`的方法:"
   ]
  },
  {
   "cell_type": "code",
   "execution_count": 34,
   "metadata": {},
   "outputs": [
    {
     "name": "stdout",
     "output_type": "stream",
     "text": [
      "70\n",
      "80\n"
     ]
    }
   ],
   "source": [
    "print(s.get_score())\n",
    "s.set_score(80)\n",
    "print(s.get_score())"
   ]
  },
  {
   "cell_type": "markdown",
   "metadata": {},
   "source": [
    "上面的方法略显复杂,如果需要更改`_score`属性的话需要先执行`set_score`更改,没有直接用属性那么方便.但是,如果直接用属性进行设置,由无法检查参数.\n",
    "\n",
    "所以,此时我们可以通过使用`@property`装饰器,对`get_score`和`set_score`进行改装,使类中的这两种方法变成类的属性,使得调用的时候可以以属性的方法进行."
   ]
  },
  {
   "cell_type": "code",
   "execution_count": 35,
   "metadata": {},
   "outputs": [],
   "source": [
    "class Student(object):\n",
    "    def __init__(self):\n",
    "        self._score = 70\n",
    "    \n",
    "    @property\n",
    "    def score(self):\n",
    "        return self._score\n",
    "    \n",
    "    @score.setter\n",
    "    def score(self, value):\n",
    "        if not isinstance(value, int):\n",
    "            raise ValueError(\"score must be an integer!\")\n",
    "        if value<0 or value>100:\n",
    "            raise ValuError(\"score must between 0~100!\")\n",
    "        self._score = value\n",
    "\n",
    "s = Student()"
   ]
  },
  {
   "cell_type": "markdown",
   "metadata": {},
   "source": [
    "值得一提的是,`@property`装饰器自带`getter`和`setter`方法,分别用于将一个getter方法和一个setter方法变为属性,直接以`@property`装饰时默认为`getter`."
   ]
  },
  {
   "cell_type": "code",
   "execution_count": 36,
   "metadata": {},
   "outputs": [
    {
     "name": "stdout",
     "output_type": "stream",
     "text": [
      "70\n",
      "80\n"
     ]
    }
   ],
   "source": [
    "print(s.score)\n",
    "s.score = 80\n",
    "print(s.score)"
   ]
  },
  {
   "cell_type": "markdown",
   "metadata": {},
   "source": [
    "这样我们就发现,通过属性的方式调用,代码更加简洁易懂,同时又免去了方法调用的().\n",
    "\n",
    "更重要的是,直接调用`score`即可，而不用知道属性名`_score`，因此用户无法更改属性，从而保护了类的属性。"
   ]
  },
  {
   "cell_type": "code",
   "execution_count": null,
   "metadata": {},
   "outputs": [],
   "source": []
  }
 ],
 "metadata": {
  "kernelspec": {
   "display_name": "Python 3",
   "language": "python",
   "name": "python3"
  },
  "language_info": {
   "codemirror_mode": {
    "name": "ipython",
    "version": 3
   },
   "file_extension": ".py",
   "mimetype": "text/x-python",
   "name": "python",
   "nbconvert_exporter": "python",
   "pygments_lexer": "ipython3",
   "version": "3.6.5"
  }
 },
 "nbformat": 4,
 "nbformat_minor": 2
}
