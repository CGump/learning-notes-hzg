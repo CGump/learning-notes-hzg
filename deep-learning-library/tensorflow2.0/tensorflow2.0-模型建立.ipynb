{
 "cells": [
  {
   "cell_type": "markdown",
   "metadata": {},
   "source": [
    "# 模型建立\n",
    "tensorflow2.0中集成了keras，在建模和训练时官方推荐使用keras模块进行构建。\n",
    "\n",
    "新版中，可以直接通过`tf.keras`对keras进行调用，其内部模块基本上没有太大变化。Keras有两个重要概念：模型（model）和层（layer）。层将各种计算流程和变量进行了封装，而模型则将各种层进行组织和连接，并封装成一个整体。\n",
    "\n",
    "Keras在`tf.keras.layers`下内置了大量的常用层，当然也可以自定义。\n",
    "\n",
    "Keras模型以类形式呈现，可以通过继承`tf.keras.Model`来定义自己模型，此时需要重写`__init__()`构造/初始化函数和`call(input)`模型调用 两个方法，同时也可以自定义方法。"
   ]
  },
  {
   "cell_type": "code",
   "execution_count": null,
   "metadata": {},
   "outputs": [],
   "source": [
    "import tensorflow as tf\n",
    "\n",
    "class MyModel(tf.keras.Model):\n",
    "    def __init__(self):\n",
    "        super().__init__()\n",
    "        # 此处添加初始化代码，包括call方法中会调用的层，例如\n",
    "        # layer1 = tf.keras.layers.BuiltInLayer(...)\n",
    "        # layer2 = MyCustomLayer(...)\n",
    "    \n",
    "    def call(self, input):\n",
    "        # 此处添加模型调用的代码（处理输入并返回输出），例如\n",
    "        # x = layer1(input)\n",
    "        # output = layer2(x)\n",
    "        return output"
   ]
  }
 ],
 "metadata": {
  "kernelspec": {
   "display_name": "Python [conda env:tf2]",
   "language": "python",
   "name": "tf2"
  },
  "language_info": {
   "codemirror_mode": {
    "name": "ipython",
    "version": 3
   },
   "file_extension": ".py",
   "mimetype": "text/x-python",
   "name": "python",
   "nbconvert_exporter": "python",
   "pygments_lexer": "ipython3",
   "version": "3.6.9"
  }
 },
 "nbformat": 4,
 "nbformat_minor": 2
}
